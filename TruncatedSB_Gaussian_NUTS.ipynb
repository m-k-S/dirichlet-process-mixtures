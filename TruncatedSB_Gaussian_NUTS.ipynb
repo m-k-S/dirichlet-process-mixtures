{
  "nbformat": 4,
  "nbformat_minor": 0,
  "metadata": {
    "colab": {
      "name": "TruncatedSB Gaussian NUTS",
      "provenance": [],
      "collapsed_sections": []
    },
    "kernelspec": {
      "name": "python3",
      "display_name": "Python 3"
    }
  },
  "cells": [
    {
      "cell_type": "code",
      "metadata": {
        "id": "8YIFZRcJdfuS",
        "colab_type": "code",
        "outputId": "dba71180-d5cc-4c2f-cd6a-51b51785f862",
        "colab": {
          "base_uri": "https://localhost:8080/",
          "height": 412
        }
      },
      "source": [
        "import torch\n",
        "import numpy as np\n",
        "import pandas as pd\n",
        "import matplotlib.pyplot as plt\n",
        "from tqdm import tqdm_notebook as tqdm\n",
        "\n",
        "!pip install pyro-ppl\n",
        "import pyro.distributions as dist\n",
        "import pyro\n",
        "from pyro.infer import NUTS, MCMC\n",
        "from pyro import poutine"
      ],
      "execution_count": 0,
      "outputs": [
        {
          "output_type": "stream",
          "text": [
            "Collecting pyro-ppl\n",
            "\u001b[?25l  Downloading https://files.pythonhosted.org/packages/07/9b/a8aa400ebb22a74ac00717ee897b9f179461d4f9052b348644aee36d1b87/pyro_ppl-1.0.0-py3-none-any.whl (404kB)\n",
            "\u001b[K     |████████████████████████████████| 409kB 2.7MB/s \n",
            "\u001b[?25hRequirement already satisfied: torch>=1.3.0 in /usr/local/lib/python3.6/dist-packages (from pyro-ppl) (1.3.1+cu100)\n",
            "Requirement already satisfied: numpy>=1.7 in /usr/local/lib/python3.6/dist-packages (from pyro-ppl) (1.17.4)\n",
            "Collecting tqdm>=4.36\n",
            "\u001b[?25l  Downloading https://files.pythonhosted.org/packages/b9/08/8505f192efc72bfafec79655e1d8351d219e2b80b0dec4ae71f50934c17a/tqdm-4.38.0-py2.py3-none-any.whl (53kB)\n",
            "\u001b[K     |████████████████████████████████| 61kB 7.8MB/s \n",
            "\u001b[?25hRequirement already satisfied: graphviz>=0.8 in /usr/local/lib/python3.6/dist-packages (from pyro-ppl) (0.10.1)\n",
            "Requirement already satisfied: opt-einsum>=2.3.2 in /usr/local/lib/python3.6/dist-packages (from pyro-ppl) (3.1.0)\n",
            "Collecting pyro-api>=0.1.1\n",
            "  Downloading https://files.pythonhosted.org/packages/c2/bc/6cdbd1929e32fff62a33592633c2cc0393c7f7739131ccc9c9c4e28ac8dd/pyro_api-0.1.1-py3-none-any.whl\n",
            "Installing collected packages: tqdm, pyro-api, pyro-ppl\n",
            "  Found existing installation: tqdm 4.28.1\n",
            "    Uninstalling tqdm-4.28.1:\n",
            "      Successfully uninstalled tqdm-4.28.1\n",
            "Successfully installed pyro-api-0.1.1 pyro-ppl-1.0.0 tqdm-4.38.0\n"
          ],
          "name": "stdout"
        },
        {
          "output_type": "display_data",
          "data": {
            "application/vnd.colab-display-data+json": {
              "pip_warning": {
                "packages": [
                  "tqdm"
                ]
              }
            }
          },
          "metadata": {
            "tags": []
          }
        }
      ]
    },
    {
      "cell_type": "code",
      "metadata": {
        "id": "cCTiSVIYdkU1",
        "colab_type": "code",
        "outputId": "04ae11c5-06c2-4d1b-9a1d-77294f606633",
        "colab": {
          "base_uri": "https://localhost:8080/",
          "height": 703
        }
      },
      "source": [
        "data1 = dist.MultivariateNormal(-8 * torch.ones(2), torch.eye(2)).sample([50])\n",
        "data2 = dist.MultivariateNormal(8 * torch.ones(2), torch.eye(2)).sample([50])\n",
        "data3 = dist.MultivariateNormal(torch.tensor([2., 2]), torch.eye(2)).sample([50])\n",
        "data4 = dist.MultivariateNormal(torch.tensor([-2., 1]), torch.eye(2)).sample([50])\n",
        "data = torch.cat((data1, data2, data3, data4))\n",
        "\n",
        "plt.scatter(data[:, 0], data[:, 1])\n",
        "plt.show()\n",
        "\n",
        "from sklearn.mixture import BayesianGaussianMixture\n",
        "import matplotlib.cm as cm\n",
        "\n",
        "k = 9\n",
        "color=cm.rainbow(np.linspace(0,1,k))\n",
        "dpmm = BayesianGaussianMixture(n_components=k, weight_concentration_prior=1.5)\n",
        "dpmm.fit(data)\n",
        "labels = dpmm.predict(data)\n",
        "print(labels)\n",
        "\n",
        "def plot_clusters(data, labels):\n",
        "    for idx, label in enumerate(np.unique(labels)):\n",
        "      plt.scatter(data[labels==label, 0], data[labels==label, 1], c=color[idx])\n",
        "    plt.show()\n",
        "\n",
        "plot_clusters(data, labels)"
      ],
      "execution_count": 0,
      "outputs": [
        {
          "output_type": "display_data",
          "data": {
            "image/png": "[encoded data removed]",
            "text/plain": [
              "<Figure size 432x288 with 1 Axes>"
            ]
          },
          "metadata": {
            "tags": []
          }
        },
        {
          "output_type": "stream",
          "text": [
            "'c' argument looks like a single numeric RGB or RGBA sequence, which should be avoided as value-mapping will have precedence in case its length matches with 'x' & 'y'.  Please use a 2-D array with a single row if you really want to specify the same RGB or RGBA value for all points.\n",
            "'c' argument looks like a single numeric RGB or RGBA sequence, which should be avoided as value-mapping will have precedence in case its length matches with 'x' & 'y'.  Please use a 2-D array with a single row if you really want to specify the same RGB or RGBA value for all points.\n",
            "'c' argument looks like a single numeric RGB or RGBA sequence, which should be avoided as value-mapping will have precedence in case its length matches with 'x' & 'y'.  Please use a 2-D array with a single row if you really want to specify the same RGB or RGBA value for all points.\n",
            "'c' argument looks like a single numeric RGB or RGBA sequence, which should be avoided as value-mapping will have precedence in case its length matches with 'x' & 'y'.  Please use a 2-D array with a single row if you really want to specify the same RGB or RGBA value for all points.\n"
          ],
          "name": "stderr"
        },
        {
          "output_type": "stream",
          "text": [
            "[5 5 5 5 5 5 5 5 5 5 5 5 5 5 5 5 5 5 5 5 5 5 5 5 5 5 5 5 5 5 5 5 5 5 5 5 5\n",
            " 5 5 5 5 5 5 5 5 5 5 5 5 5 4 4 4 4 4 4 4 4 4 4 4 4 4 4 4 4 4 4 4 4 4 4 4 4\n",
            " 4 4 4 4 4 4 4 4 4 4 4 4 4 4 4 4 4 4 4 4 4 4 4 4 4 4 3 3 3 3 3 3 3 3 6 3 3\n",
            " 6 3 3 3 4 3 3 3 3 3 3 3 3 3 3 3 3 3 3 3 3 3 3 3 3 3 3 3 3 3 3 3 3 3 3 3 3\n",
            " 3 3 6 6 6 6 6 6 6 6 6 6 6 6 3 3 6 6 6 6 6 6 6 6 6 6 6 6 6 6 3 3 3 6 6 6 6\n",
            " 6 6 6 6 6 3 6 6 6 6 6 6 6 6 6]\n"
          ],
          "name": "stdout"
        },
        {
          "output_type": "display_data",
          "data": {
            "image/png": "[encoded data removed]",
            "text/plain": [
              "<Figure size 432x288 with 1 Axes>"
            ]
          },
          "metadata": {
            "tags": []
          }
        }
      ]
    },
    {
      "cell_type": "code",
      "metadata": {
        "id": "BPY5lOxmdk5S",
        "colab_type": "code",
        "outputId": "adc53603-f5cd-4056-c9d5-c9e43b4093f1",
        "colab": {
          "base_uri": "https://localhost:8080/",
          "height": 986
        }
      },
      "source": [
        "pyro.enable_validation(True)\n",
        "\n",
        "N = len(data)\n",
        "T = 10\n",
        "\n",
        "def mix_weights(beta): \n",
        "    weights = torch.zeros(beta.shape[0] + 1)\n",
        "    for t in range(beta.shape[0]):\n",
        "      weights[t] = beta[t] * torch.prod(1. - beta[:t], dim=0)\n",
        "    weights[beta.shape[0]] = 1. - torch.sum(weights)\n",
        "    return weights\n",
        "\n",
        "def model(data):\n",
        "    alpha = 1.5 # check alpha 0.3\n",
        "    with pyro.plate(\"beta_plate\", T-1):\n",
        "      beta = pyro.sample(\"beta\", dist.Beta(1, alpha))\n",
        "\n",
        "    with pyro.plate(\"mu_plate\", T):\n",
        "      mu = pyro.sample(\"mu\", dist.MultivariateNormal(torch.zeros(2), 5 * torch.eye(2)))\n",
        "\n",
        "    with pyro.plate(\"data\", N):\n",
        "      z = pyro.sample(\"z\", dist.Categorical(mix_weights(beta)))\n",
        "      pyro.sample(\"obs\", dist.MultivariateNormal(mu[z], torch.eye(2)), obs=data)\n",
        "\n",
        "    # for i in range(N):\n",
        "    #   z = pyro.sample(\"z_{}\".format(i), dist.Categorical(mix_weights(beta)))\n",
        "    #   print (z.numpy())\n",
        "    #   pyro.sample(\"obs_{}\".format(i), dist.MultivariateNormal(mu[z.item()], torch.eye(2)), obs=data[i])\n",
        "\n",
        "nuts_kernel = NUTS(model, adapt_step_size=True)\n",
        "mcmc = MCMC(nuts_kernel, num_samples=200, warmup_steps=100)\n",
        "mcmc.run(data)\n",
        "\n",
        "samples = mcmc.get_samples()\n",
        "print(samples)"
      ],
      "execution_count": 0,
      "outputs": [
        {
          "output_type": "stream",
          "text": [
            "Sample: 100%|██████████| 300/300 [02:37,  2.26it/s, step size=9.44e-02, acc. prob=0.884]"
          ],
          "name": "stderr"
        },
        {
          "output_type": "stream",
          "text": [
            "{'beta': tensor([[0.1876, 0.2571, 0.3942,  ..., 0.6145, 0.4775, 0.2573],\n",
            "        [0.1396, 0.3143, 0.4815,  ..., 0.1411, 0.1763, 0.2564],\n",
            "        [0.3065, 0.3653, 0.4661,  ..., 0.5822, 0.4484, 0.3970],\n",
            "        ...,\n",
            "        [0.2273, 0.3310, 0.5202,  ..., 0.4798, 0.8954, 0.2103],\n",
            "        [0.2342, 0.2900, 0.4206,  ..., 0.0794, 0.0517, 0.2314],\n",
            "        [0.2078, 0.2809, 0.3917,  ..., 0.0207, 0.4840, 0.2100]]), 'mu': tensor([[[-1.7917,  0.8027],\n",
            "         [ 8.1285,  7.5552],\n",
            "         [-7.8649, -7.8934],\n",
            "         ...,\n",
            "         [ 2.9515,  0.8913],\n",
            "         [ 4.1764, -0.2186],\n",
            "         [-3.0711,  2.2019]],\n",
            "\n",
            "        [[-2.1119,  0.7979],\n",
            "         [ 8.1247,  7.7771],\n",
            "         [-7.8559, -7.8330],\n",
            "         ...,\n",
            "         [ 1.7776,  0.0783],\n",
            "         [-0.2871, -2.0100],\n",
            "         [ 0.6340, -1.1289]],\n",
            "\n",
            "        [[-1.7426,  1.1276],\n",
            "         [ 7.8513,  7.3803],\n",
            "         [-7.8737, -7.8735],\n",
            "         ...,\n",
            "         [-2.4262,  0.4826],\n",
            "         [-3.6695,  0.5175],\n",
            "         [ 0.4022, -2.1667]],\n",
            "\n",
            "        ...,\n",
            "\n",
            "        [[-1.5070,  0.7649],\n",
            "         [ 7.8996,  7.4870],\n",
            "         [-7.9128, -7.9833],\n",
            "         ...,\n",
            "         [-2.3501,  2.2833],\n",
            "         [ 0.0247, -0.5095],\n",
            "         [-0.5718,  0.9467]],\n",
            "\n",
            "        [[-1.7033,  0.9422],\n",
            "         [ 7.8949,  7.8467],\n",
            "         [-7.9088, -7.7829],\n",
            "         ...,\n",
            "         [ 0.4967,  0.4518],\n",
            "         [-0.8927,  1.4864],\n",
            "         [-0.1388,  1.0777]],\n",
            "\n",
            "        [[-1.9820,  0.9001],\n",
            "         [ 7.7172,  7.7613],\n",
            "         [-7.9022, -7.7629],\n",
            "         ...,\n",
            "         [ 1.3525, -0.5131],\n",
            "         [-1.7365,  1.9468],\n",
            "         [ 1.9152,  0.8846]]])}\n"
          ],
          "name": "stdout"
        },
        {
          "output_type": "stream",
          "text": [
            "\n"
          ],
          "name": "stderr"
        }
      ]
    },
    {
      "cell_type": "code",
      "metadata": {
        "id": "0J6LBZeKHSCU",
        "colab_type": "code",
        "outputId": "2f5be962-d26c-4032-fdd0-5204112c714e",
        "colab": {
          "base_uri": "https://localhost:8080/",
          "height": 486
        }
      },
      "source": [
        "Bayes_Centers = samples['mu'].mean(0)\n",
        "Bayes_Weights = mix_weights(samples['beta'].mean(0))\n",
        "# Bayes_Weights = torch.mean(pyro.param(\"phi\").detach(), dim=0)\n",
        "\n",
        "print (samples.keys())\n",
        "\n",
        "print (Bayes_Centers)\n",
        "print (Bayes_Weights) # threshold under 5% and renormalize\n",
        "\n",
        "plt.scatter(data[:, 0], data[:, 1], color=\"red\")\n",
        "plt.scatter(Bayes_Centers[:, 0], Bayes_Centers[:, 1], color=\"blue\")\n",
        "plt.show()"
      ],
      "execution_count": 0,
      "outputs": [
        {
          "output_type": "stream",
          "text": [
            "dict_keys(['beta', 'mu'])\n",
            "tensor([[-1.8252,  0.9588],\n",
            "        [ 7.9733,  7.7464],\n",
            "        [-7.9384, -7.8412],\n",
            "        [ 1.8194,  1.9895],\n",
            "        [ 0.3960,  1.0869],\n",
            "        [-0.1321,  0.8373],\n",
            "        [-0.3762,  0.2141],\n",
            "        [-0.1132,  0.3266],\n",
            "        [ 0.2014,  0.3618],\n",
            "        [ 0.1975, -0.0858]])\n",
            "tensor([0.2080, 0.2496, 0.2484, 0.2127, 0.0374, 0.0194, 0.0103, 0.0060, 0.0034,\n",
            "        0.0048])\n"
          ],
          "name": "stdout"
        },
        {
          "output_type": "display_data",
          "data": {
            "image/png": "[encoded data removed]",
            "text/plain": [
              "<Figure size 432x288 with 1 Axes>"
            ]
          },
          "metadata": {
            "tags": []
          }
        }
      ]
    }
  ]
}